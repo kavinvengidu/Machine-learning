{
 "cells": [
  {
   "cell_type": "markdown",
   "id": "2936ec65",
   "metadata": {
    "papermill": {
     "duration": 0.010141,
     "end_time": "2023-01-28T10:02:05.804049",
     "exception": false,
     "start_time": "2023-01-28T10:02:05.793908",
     "status": "completed"
    },
    "tags": []
   },
   "source": [
    "#  Importing dependencies"
   ]
  },
  {
   "cell_type": "code",
   "execution_count": 1,
   "id": "eebe904b",
   "metadata": {
    "execution": {
     "iopub.execute_input": "2023-01-28T10:02:05.824739Z",
     "iopub.status.busy": "2023-01-28T10:02:05.824263Z",
     "iopub.status.idle": "2023-01-28T10:02:07.057946Z",
     "shell.execute_reply": "2023-01-28T10:02:07.056847Z"
    },
    "papermill": {
     "duration": 1.247838,
     "end_time": "2023-01-28T10:02:07.061333",
     "exception": false,
     "start_time": "2023-01-28T10:02:05.813495",
     "status": "completed"
    },
    "tags": []
   },
   "outputs": [],
   "source": [
    "import numpy as np\n",
    "import pandas as pd\n",
    "from sklearn.model_selection import train_test_split\n",
    "from sklearn.feature_extraction.text import TfidfVectorizer\n",
    "from sklearn.linear_model import LogisticRegression\n",
    "from sklearn.metrics import accuracy_score\n",
    "from sklearn.utils import resample"
   ]
  },
  {
   "cell_type": "markdown",
   "id": "5cbea3d7",
   "metadata": {
    "papermill": {
     "duration": 0.011485,
     "end_time": "2023-01-28T10:02:07.083564",
     "exception": false,
     "start_time": "2023-01-28T10:02:07.072079",
     "status": "completed"
    },
    "tags": []
   },
   "source": [
    "# Data collection and preprocessing"
   ]
  },
  {
   "cell_type": "code",
   "execution_count": 2,
   "id": "4494e6d0",
   "metadata": {
    "execution": {
     "iopub.execute_input": "2023-01-28T10:02:07.107581Z",
     "iopub.status.busy": "2023-01-28T10:02:07.107109Z",
     "iopub.status.idle": "2023-01-28T10:02:07.157796Z",
     "shell.execute_reply": "2023-01-28T10:02:07.157049Z"
    },
    "papermill": {
     "duration": 0.063658,
     "end_time": "2023-01-28T10:02:07.160076",
     "exception": false,
     "start_time": "2023-01-28T10:02:07.096418",
     "status": "completed"
    },
    "tags": []
   },
   "outputs": [
    {
     "data": {
      "text/html": [
       "<div>\n",
       "<style scoped>\n",
       "    .dataframe tbody tr th:only-of-type {\n",
       "        vertical-align: middle;\n",
       "    }\n",
       "\n",
       "    .dataframe tbody tr th {\n",
       "        vertical-align: top;\n",
       "    }\n",
       "\n",
       "    .dataframe thead th {\n",
       "        text-align: right;\n",
       "    }\n",
       "</style>\n",
       "<table border=\"1\" class=\"dataframe\">\n",
       "  <thead>\n",
       "    <tr style=\"text-align: right;\">\n",
       "      <th></th>\n",
       "      <th>Category</th>\n",
       "      <th>Message</th>\n",
       "    </tr>\n",
       "  </thead>\n",
       "  <tbody>\n",
       "    <tr>\n",
       "      <th>0</th>\n",
       "      <td>ham</td>\n",
       "      <td>Go until jurong point, crazy.. Available only ...</td>\n",
       "    </tr>\n",
       "    <tr>\n",
       "      <th>1</th>\n",
       "      <td>ham</td>\n",
       "      <td>Ok lar... Joking wif u oni...</td>\n",
       "    </tr>\n",
       "    <tr>\n",
       "      <th>2</th>\n",
       "      <td>spam</td>\n",
       "      <td>Free entry in 2 a wkly comp to win FA Cup fina...</td>\n",
       "    </tr>\n",
       "    <tr>\n",
       "      <th>3</th>\n",
       "      <td>ham</td>\n",
       "      <td>U dun say so early hor... U c already then say...</td>\n",
       "    </tr>\n",
       "    <tr>\n",
       "      <th>4</th>\n",
       "      <td>ham</td>\n",
       "      <td>Nah I don't think he goes to usf, he lives aro...</td>\n",
       "    </tr>\n",
       "    <tr>\n",
       "      <th>...</th>\n",
       "      <td>...</td>\n",
       "      <td>...</td>\n",
       "    </tr>\n",
       "    <tr>\n",
       "      <th>5567</th>\n",
       "      <td>spam</td>\n",
       "      <td>This is the 2nd time we have tried 2 contact u...</td>\n",
       "    </tr>\n",
       "    <tr>\n",
       "      <th>5568</th>\n",
       "      <td>ham</td>\n",
       "      <td>Will ü b going to esplanade fr home?</td>\n",
       "    </tr>\n",
       "    <tr>\n",
       "      <th>5569</th>\n",
       "      <td>ham</td>\n",
       "      <td>Pity, * was in mood for that. So...any other s...</td>\n",
       "    </tr>\n",
       "    <tr>\n",
       "      <th>5570</th>\n",
       "      <td>ham</td>\n",
       "      <td>The guy did some bitching but I acted like i'd...</td>\n",
       "    </tr>\n",
       "    <tr>\n",
       "      <th>5571</th>\n",
       "      <td>ham</td>\n",
       "      <td>Rofl. Its true to its name</td>\n",
       "    </tr>\n",
       "  </tbody>\n",
       "</table>\n",
       "<p>5572 rows × 2 columns</p>\n",
       "</div>"
      ],
      "text/plain": [
       "     Category                                            Message\n",
       "0         ham  Go until jurong point, crazy.. Available only ...\n",
       "1         ham                      Ok lar... Joking wif u oni...\n",
       "2        spam  Free entry in 2 a wkly comp to win FA Cup fina...\n",
       "3         ham  U dun say so early hor... U c already then say...\n",
       "4         ham  Nah I don't think he goes to usf, he lives aro...\n",
       "...       ...                                                ...\n",
       "5567     spam  This is the 2nd time we have tried 2 contact u...\n",
       "5568      ham               Will ü b going to esplanade fr home?\n",
       "5569      ham  Pity, * was in mood for that. So...any other s...\n",
       "5570      ham  The guy did some bitching but I acted like i'd...\n",
       "5571      ham                         Rofl. Its true to its name\n",
       "\n",
       "[5572 rows x 2 columns]"
      ]
     },
     "execution_count": 2,
     "metadata": {},
     "output_type": "execute_result"
    }
   ],
   "source": [
    "df=pd.read_csv('/kaggle/input/mailcsv/mail_data.csv')\n",
    "df"
   ]
  },
  {
   "cell_type": "markdown",
   "id": "fa2a7422",
   "metadata": {
    "papermill": {
     "duration": 0.009378,
     "end_time": "2023-01-28T10:02:07.179662",
     "exception": false,
     "start_time": "2023-01-28T10:02:07.170284",
     "status": "completed"
    },
    "tags": []
   },
   "source": [
    "# Data cleaning"
   ]
  },
  {
   "cell_type": "code",
   "execution_count": 3,
   "id": "fd10f18b",
   "metadata": {
    "execution": {
     "iopub.execute_input": "2023-01-28T10:02:07.201063Z",
     "iopub.status.busy": "2023-01-28T10:02:07.200408Z",
     "iopub.status.idle": "2023-01-28T10:02:07.206983Z",
     "shell.execute_reply": "2023-01-28T10:02:07.205920Z"
    },
    "papermill": {
     "duration": 0.019998,
     "end_time": "2023-01-28T10:02:07.209238",
     "exception": false,
     "start_time": "2023-01-28T10:02:07.189240",
     "status": "completed"
    },
    "tags": []
   },
   "outputs": [],
   "source": [
    " data=df.where((pd.notnull(df)),'')"
   ]
  },
  {
   "cell_type": "code",
   "execution_count": 4,
   "id": "1ab06802",
   "metadata": {
    "execution": {
     "iopub.execute_input": "2023-01-28T10:02:07.231024Z",
     "iopub.status.busy": "2023-01-28T10:02:07.230118Z",
     "iopub.status.idle": "2023-01-28T10:02:07.240847Z",
     "shell.execute_reply": "2023-01-28T10:02:07.239633Z"
    },
    "papermill": {
     "duration": 0.023453,
     "end_time": "2023-01-28T10:02:07.242878",
     "exception": false,
     "start_time": "2023-01-28T10:02:07.219425",
     "status": "completed"
    },
    "tags": []
   },
   "outputs": [
    {
     "data": {
      "text/html": [
       "<div>\n",
       "<style scoped>\n",
       "    .dataframe tbody tr th:only-of-type {\n",
       "        vertical-align: middle;\n",
       "    }\n",
       "\n",
       "    .dataframe tbody tr th {\n",
       "        vertical-align: top;\n",
       "    }\n",
       "\n",
       "    .dataframe thead th {\n",
       "        text-align: right;\n",
       "    }\n",
       "</style>\n",
       "<table border=\"1\" class=\"dataframe\">\n",
       "  <thead>\n",
       "    <tr style=\"text-align: right;\">\n",
       "      <th></th>\n",
       "      <th>Category</th>\n",
       "      <th>Message</th>\n",
       "    </tr>\n",
       "  </thead>\n",
       "  <tbody>\n",
       "    <tr>\n",
       "      <th>0</th>\n",
       "      <td>ham</td>\n",
       "      <td>Go until jurong point, crazy.. Available only ...</td>\n",
       "    </tr>\n",
       "    <tr>\n",
       "      <th>1</th>\n",
       "      <td>ham</td>\n",
       "      <td>Ok lar... Joking wif u oni...</td>\n",
       "    </tr>\n",
       "    <tr>\n",
       "      <th>2</th>\n",
       "      <td>spam</td>\n",
       "      <td>Free entry in 2 a wkly comp to win FA Cup fina...</td>\n",
       "    </tr>\n",
       "    <tr>\n",
       "      <th>3</th>\n",
       "      <td>ham</td>\n",
       "      <td>U dun say so early hor... U c already then say...</td>\n",
       "    </tr>\n",
       "    <tr>\n",
       "      <th>4</th>\n",
       "      <td>ham</td>\n",
       "      <td>Nah I don't think he goes to usf, he lives aro...</td>\n",
       "    </tr>\n",
       "  </tbody>\n",
       "</table>\n",
       "</div>"
      ],
      "text/plain": [
       "  Category                                            Message\n",
       "0      ham  Go until jurong point, crazy.. Available only ...\n",
       "1      ham                      Ok lar... Joking wif u oni...\n",
       "2     spam  Free entry in 2 a wkly comp to win FA Cup fina...\n",
       "3      ham  U dun say so early hor... U c already then say...\n",
       "4      ham  Nah I don't think he goes to usf, he lives aro..."
      ]
     },
     "execution_count": 4,
     "metadata": {},
     "output_type": "execute_result"
    }
   ],
   "source": [
    "data.head()"
   ]
  },
  {
   "cell_type": "code",
   "execution_count": 5,
   "id": "941355a9",
   "metadata": {
    "execution": {
     "iopub.execute_input": "2023-01-28T10:02:07.264697Z",
     "iopub.status.busy": "2023-01-28T10:02:07.264280Z",
     "iopub.status.idle": "2023-01-28T10:02:07.290471Z",
     "shell.execute_reply": "2023-01-28T10:02:07.289310Z"
    },
    "papermill": {
     "duration": 0.040089,
     "end_time": "2023-01-28T10:02:07.293085",
     "exception": false,
     "start_time": "2023-01-28T10:02:07.252996",
     "status": "completed"
    },
    "tags": []
   },
   "outputs": [
    {
     "name": "stdout",
     "output_type": "stream",
     "text": [
      "<class 'pandas.core.frame.DataFrame'>\n",
      "RangeIndex: 5572 entries, 0 to 5571\n",
      "Data columns (total 2 columns):\n",
      " #   Column    Non-Null Count  Dtype \n",
      "---  ------    --------------  ----- \n",
      " 0   Category  5572 non-null   object\n",
      " 1   Message   5572 non-null   object\n",
      "dtypes: object(2)\n",
      "memory usage: 87.2+ KB\n"
     ]
    }
   ],
   "source": [
    "data.info()"
   ]
  },
  {
   "cell_type": "code",
   "execution_count": 6,
   "id": "9e82511a",
   "metadata": {
    "execution": {
     "iopub.execute_input": "2023-01-28T10:02:07.314744Z",
     "iopub.status.busy": "2023-01-28T10:02:07.314359Z",
     "iopub.status.idle": "2023-01-28T10:02:07.321454Z",
     "shell.execute_reply": "2023-01-28T10:02:07.320349Z"
    },
    "papermill": {
     "duration": 0.020249,
     "end_time": "2023-01-28T10:02:07.323359",
     "exception": false,
     "start_time": "2023-01-28T10:02:07.303110",
     "status": "completed"
    },
    "tags": []
   },
   "outputs": [
    {
     "data": {
      "text/plain": [
       "(5572, 2)"
      ]
     },
     "execution_count": 6,
     "metadata": {},
     "output_type": "execute_result"
    }
   ],
   "source": [
    "data.shape"
   ]
  },
  {
   "cell_type": "markdown",
   "id": "aad36be0",
   "metadata": {
    "papermill": {
     "duration": 0.009481,
     "end_time": "2023-01-28T10:02:07.342797",
     "exception": false,
     "start_time": "2023-01-28T10:02:07.333316",
     "status": "completed"
    },
    "tags": []
   },
   "source": [
    "## Label Encoding "
   ]
  },
  {
   "cell_type": "code",
   "execution_count": 7,
   "id": "0d2c91bf",
   "metadata": {
    "execution": {
     "iopub.execute_input": "2023-01-28T10:02:07.364990Z",
     "iopub.status.busy": "2023-01-28T10:02:07.363641Z",
     "iopub.status.idle": "2023-01-28T10:02:07.381006Z",
     "shell.execute_reply": "2023-01-28T10:02:07.379182Z"
    },
    "papermill": {
     "duration": 0.031563,
     "end_time": "2023-01-28T10:02:07.384078",
     "exception": false,
     "start_time": "2023-01-28T10:02:07.352515",
     "status": "completed"
    },
    "tags": []
   },
   "outputs": [
    {
     "data": {
      "text/html": [
       "<div>\n",
       "<style scoped>\n",
       "    .dataframe tbody tr th:only-of-type {\n",
       "        vertical-align: middle;\n",
       "    }\n",
       "\n",
       "    .dataframe tbody tr th {\n",
       "        vertical-align: top;\n",
       "    }\n",
       "\n",
       "    .dataframe thead th {\n",
       "        text-align: right;\n",
       "    }\n",
       "</style>\n",
       "<table border=\"1\" class=\"dataframe\">\n",
       "  <thead>\n",
       "    <tr style=\"text-align: right;\">\n",
       "      <th></th>\n",
       "      <th>Category</th>\n",
       "      <th>Message</th>\n",
       "    </tr>\n",
       "  </thead>\n",
       "  <tbody>\n",
       "    <tr>\n",
       "      <th>0</th>\n",
       "      <td>1</td>\n",
       "      <td>Go until jurong point, crazy.. Available only ...</td>\n",
       "    </tr>\n",
       "    <tr>\n",
       "      <th>1</th>\n",
       "      <td>1</td>\n",
       "      <td>Ok lar... Joking wif u oni...</td>\n",
       "    </tr>\n",
       "    <tr>\n",
       "      <th>2</th>\n",
       "      <td>0</td>\n",
       "      <td>Free entry in 2 a wkly comp to win FA Cup fina...</td>\n",
       "    </tr>\n",
       "    <tr>\n",
       "      <th>3</th>\n",
       "      <td>1</td>\n",
       "      <td>U dun say so early hor... U c already then say...</td>\n",
       "    </tr>\n",
       "    <tr>\n",
       "      <th>4</th>\n",
       "      <td>1</td>\n",
       "      <td>Nah I don't think he goes to usf, he lives aro...</td>\n",
       "    </tr>\n",
       "    <tr>\n",
       "      <th>...</th>\n",
       "      <td>...</td>\n",
       "      <td>...</td>\n",
       "    </tr>\n",
       "    <tr>\n",
       "      <th>5567</th>\n",
       "      <td>0</td>\n",
       "      <td>This is the 2nd time we have tried 2 contact u...</td>\n",
       "    </tr>\n",
       "    <tr>\n",
       "      <th>5568</th>\n",
       "      <td>1</td>\n",
       "      <td>Will ü b going to esplanade fr home?</td>\n",
       "    </tr>\n",
       "    <tr>\n",
       "      <th>5569</th>\n",
       "      <td>1</td>\n",
       "      <td>Pity, * was in mood for that. So...any other s...</td>\n",
       "    </tr>\n",
       "    <tr>\n",
       "      <th>5570</th>\n",
       "      <td>1</td>\n",
       "      <td>The guy did some bitching but I acted like i'd...</td>\n",
       "    </tr>\n",
       "    <tr>\n",
       "      <th>5571</th>\n",
       "      <td>1</td>\n",
       "      <td>Rofl. Its true to its name</td>\n",
       "    </tr>\n",
       "  </tbody>\n",
       "</table>\n",
       "<p>5572 rows × 2 columns</p>\n",
       "</div>"
      ],
      "text/plain": [
       "     Category                                            Message\n",
       "0           1  Go until jurong point, crazy.. Available only ...\n",
       "1           1                      Ok lar... Joking wif u oni...\n",
       "2           0  Free entry in 2 a wkly comp to win FA Cup fina...\n",
       "3           1  U dun say so early hor... U c already then say...\n",
       "4           1  Nah I don't think he goes to usf, he lives aro...\n",
       "...       ...                                                ...\n",
       "5567        0  This is the 2nd time we have tried 2 contact u...\n",
       "5568        1               Will ü b going to esplanade fr home?\n",
       "5569        1  Pity, * was in mood for that. So...any other s...\n",
       "5570        1  The guy did some bitching but I acted like i'd...\n",
       "5571        1                         Rofl. Its true to its name\n",
       "\n",
       "[5572 rows x 2 columns]"
      ]
     },
     "execution_count": 7,
     "metadata": {},
     "output_type": "execute_result"
    }
   ],
   "source": [
    "#spam as 0 and ham as 1\n",
    "data.loc[data['Category']=='spam','Category']=0\n",
    "data.loc[data['Category']=='ham','Category']=1\n",
    "data"
   ]
  },
  {
   "cell_type": "markdown",
   "id": "7d371851",
   "metadata": {
    "papermill": {
     "duration": 0.010845,
     "end_time": "2023-01-28T10:02:07.407180",
     "exception": false,
     "start_time": "2023-01-28T10:02:07.396335",
     "status": "completed"
    },
    "tags": []
   },
   "source": [
    "# Seperating data as text and labels "
   ]
  },
  {
   "cell_type": "code",
   "execution_count": 8,
   "id": "002b4127",
   "metadata": {
    "execution": {
     "iopub.execute_input": "2023-01-28T10:02:07.429883Z",
     "iopub.status.busy": "2023-01-28T10:02:07.429189Z",
     "iopub.status.idle": "2023-01-28T10:02:07.433852Z",
     "shell.execute_reply": "2023-01-28T10:02:07.433021Z"
    },
    "papermill": {
     "duration": 0.018384,
     "end_time": "2023-01-28T10:02:07.435898",
     "exception": false,
     "start_time": "2023-01-28T10:02:07.417514",
     "status": "completed"
    },
    "tags": []
   },
   "outputs": [],
   "source": [
    "x=data['Message']\n",
    "y=data['Category']"
   ]
  },
  {
   "cell_type": "code",
   "execution_count": 9,
   "id": "39da7574",
   "metadata": {
    "execution": {
     "iopub.execute_input": "2023-01-28T10:02:07.458588Z",
     "iopub.status.busy": "2023-01-28T10:02:07.457985Z",
     "iopub.status.idle": "2023-01-28T10:02:07.464822Z",
     "shell.execute_reply": "2023-01-28T10:02:07.463792Z"
    },
    "papermill": {
     "duration": 0.020398,
     "end_time": "2023-01-28T10:02:07.466739",
     "exception": false,
     "start_time": "2023-01-28T10:02:07.446341",
     "status": "completed"
    },
    "tags": []
   },
   "outputs": [
    {
     "data": {
      "text/plain": [
       "0       Go until jurong point, crazy.. Available only ...\n",
       "1                           Ok lar... Joking wif u oni...\n",
       "2       Free entry in 2 a wkly comp to win FA Cup fina...\n",
       "3       U dun say so early hor... U c already then say...\n",
       "4       Nah I don't think he goes to usf, he lives aro...\n",
       "                              ...                        \n",
       "5567    This is the 2nd time we have tried 2 contact u...\n",
       "5568                 Will ü b going to esplanade fr home?\n",
       "5569    Pity, * was in mood for that. So...any other s...\n",
       "5570    The guy did some bitching but I acted like i'd...\n",
       "5571                           Rofl. Its true to its name\n",
       "Name: Message, Length: 5572, dtype: object"
      ]
     },
     "execution_count": 9,
     "metadata": {},
     "output_type": "execute_result"
    }
   ],
   "source": [
    "x"
   ]
  },
  {
   "cell_type": "code",
   "execution_count": 10,
   "id": "67e841aa",
   "metadata": {
    "execution": {
     "iopub.execute_input": "2023-01-28T10:02:07.490252Z",
     "iopub.status.busy": "2023-01-28T10:02:07.489677Z",
     "iopub.status.idle": "2023-01-28T10:02:07.496748Z",
     "shell.execute_reply": "2023-01-28T10:02:07.495626Z"
    },
    "papermill": {
     "duration": 0.022462,
     "end_time": "2023-01-28T10:02:07.499764",
     "exception": false,
     "start_time": "2023-01-28T10:02:07.477302",
     "status": "completed"
    },
    "tags": []
   },
   "outputs": [
    {
     "data": {
      "text/plain": [
       "1    4825\n",
       "0     747\n",
       "Name: Category, dtype: int64"
      ]
     },
     "execution_count": 10,
     "metadata": {},
     "output_type": "execute_result"
    }
   ],
   "source": [
    "y.value_counts()"
   ]
  },
  {
   "cell_type": "markdown",
   "id": "49c5cf3c",
   "metadata": {
    "papermill": {
     "duration": 0.010602,
     "end_time": "2023-01-28T10:02:07.521022",
     "exception": false,
     "start_time": "2023-01-28T10:02:07.510420",
     "status": "completed"
    },
    "tags": []
   },
   "source": [
    "# Splitting the data into train data and test data"
   ]
  },
  {
   "cell_type": "code",
   "execution_count": 11,
   "id": "fa78f19b",
   "metadata": {
    "execution": {
     "iopub.execute_input": "2023-01-28T10:02:07.545237Z",
     "iopub.status.busy": "2023-01-28T10:02:07.544611Z",
     "iopub.status.idle": "2023-01-28T10:02:07.551476Z",
     "shell.execute_reply": "2023-01-28T10:02:07.550099Z"
    },
    "papermill": {
     "duration": 0.022343,
     "end_time": "2023-01-28T10:02:07.554133",
     "exception": false,
     "start_time": "2023-01-28T10:02:07.531790",
     "status": "completed"
    },
    "tags": []
   },
   "outputs": [],
   "source": [
    "x_train,x_test,y_train,y_test=train_test_split(x,y,test_size=0.2,random_state=3)"
   ]
  },
  {
   "cell_type": "code",
   "execution_count": 12,
   "id": "0014a8a6",
   "metadata": {
    "execution": {
     "iopub.execute_input": "2023-01-28T10:02:07.577914Z",
     "iopub.status.busy": "2023-01-28T10:02:07.577516Z",
     "iopub.status.idle": "2023-01-28T10:02:07.585985Z",
     "shell.execute_reply": "2023-01-28T10:02:07.585236Z"
    },
    "papermill": {
     "duration": 0.022972,
     "end_time": "2023-01-28T10:02:07.587924",
     "exception": false,
     "start_time": "2023-01-28T10:02:07.564952",
     "status": "completed"
    },
    "tags": []
   },
   "outputs": [],
   "source": [
    "gok= pd.concat([x_train, y_train], axis=1)\n",
    "\n",
    "# separate minority and majority classes\n",
    "spam = gok[gok.Category==0]\n",
    "ham = gok[gok.Category==1]"
   ]
  },
  {
   "cell_type": "code",
   "execution_count": 13,
   "id": "a99c979a",
   "metadata": {
    "execution": {
     "iopub.execute_input": "2023-01-28T10:02:07.611157Z",
     "iopub.status.busy": "2023-01-28T10:02:07.610584Z",
     "iopub.status.idle": "2023-01-28T10:02:07.616307Z",
     "shell.execute_reply": "2023-01-28T10:02:07.614893Z"
    },
    "papermill": {
     "duration": 0.019991,
     "end_time": "2023-01-28T10:02:07.618843",
     "exception": false,
     "start_time": "2023-01-28T10:02:07.598852",
     "status": "completed"
    },
    "tags": []
   },
   "outputs": [],
   "source": [
    "assem=resample(spam,replace=True,n_samples=len(ham),random_state=25)"
   ]
  },
  {
   "cell_type": "code",
   "execution_count": 14,
   "id": "7d219e2c",
   "metadata": {
    "execution": {
     "iopub.execute_input": "2023-01-28T10:02:07.641216Z",
     "iopub.status.busy": "2023-01-28T10:02:07.640774Z",
     "iopub.status.idle": "2023-01-28T10:02:07.650907Z",
     "shell.execute_reply": "2023-01-28T10:02:07.649952Z"
    },
    "papermill": {
     "duration": 0.02372,
     "end_time": "2023-01-28T10:02:07.652950",
     "exception": false,
     "start_time": "2023-01-28T10:02:07.629230",
     "status": "completed"
    },
    "tags": []
   },
   "outputs": [
    {
     "data": {
      "text/plain": [
       "1    3865\n",
       "0    3865\n",
       "Name: Category, dtype: int64"
      ]
     },
     "execution_count": 14,
     "metadata": {},
     "output_type": "execute_result"
    }
   ],
   "source": [
    "upsample=pd.concat([ham,assem])\n",
    "upsample.Category.value_counts()"
   ]
  },
  {
   "cell_type": "code",
   "execution_count": 15,
   "id": "85c6cca1",
   "metadata": {
    "execution": {
     "iopub.execute_input": "2023-01-28T10:02:07.676905Z",
     "iopub.status.busy": "2023-01-28T10:02:07.676463Z",
     "iopub.status.idle": "2023-01-28T10:02:07.681183Z",
     "shell.execute_reply": "2023-01-28T10:02:07.680275Z"
    },
    "papermill": {
     "duration": 0.018998,
     "end_time": "2023-01-28T10:02:07.683090",
     "exception": false,
     "start_time": "2023-01-28T10:02:07.664092",
     "status": "completed"
    },
    "tags": []
   },
   "outputs": [],
   "source": [
    "y_train=upsample.Category\n",
    "\n",
    "x_train=upsample.Message"
   ]
  },
  {
   "cell_type": "code",
   "execution_count": 16,
   "id": "48ac663d",
   "metadata": {
    "execution": {
     "iopub.execute_input": "2023-01-28T10:02:07.706290Z",
     "iopub.status.busy": "2023-01-28T10:02:07.705844Z",
     "iopub.status.idle": "2023-01-28T10:02:07.712469Z",
     "shell.execute_reply": "2023-01-28T10:02:07.711014Z"
    },
    "papermill": {
     "duration": 0.020923,
     "end_time": "2023-01-28T10:02:07.714839",
     "exception": false,
     "start_time": "2023-01-28T10:02:07.693916",
     "status": "completed"
    },
    "tags": []
   },
   "outputs": [
    {
     "data": {
      "text/plain": [
       "(5572,)"
      ]
     },
     "execution_count": 16,
     "metadata": {},
     "output_type": "execute_result"
    }
   ],
   "source": [
    "x.shape"
   ]
  },
  {
   "cell_type": "code",
   "execution_count": 17,
   "id": "63573bf0",
   "metadata": {
    "execution": {
     "iopub.execute_input": "2023-01-28T10:02:07.738328Z",
     "iopub.status.busy": "2023-01-28T10:02:07.737453Z",
     "iopub.status.idle": "2023-01-28T10:02:07.746070Z",
     "shell.execute_reply": "2023-01-28T10:02:07.744418Z"
    },
    "papermill": {
     "duration": 0.022408,
     "end_time": "2023-01-28T10:02:07.748019",
     "exception": false,
     "start_time": "2023-01-28T10:02:07.725611",
     "status": "completed"
    },
    "tags": []
   },
   "outputs": [
    {
     "data": {
      "text/plain": [
       "3075                  Don know. I did't msg him recently.\n",
       "1787    Do you know why god created gap between your f...\n",
       "1614                         Thnx dude. u guys out 2nite?\n",
       "4304                                      Yup i'm free...\n",
       "4539     Dare i ask... Any luck with sorting out the car?\n",
       "                              ...                        \n",
       "2480    Sppok up ur mob with a Halloween collection of...\n",
       "2574    Congrats 2 mobile 3G Videophones R yours. call...\n",
       "4673    Customer service announcement. We recently tri...\n",
       "3382    complimentary 4 STAR Ibiza Holiday or £10,000 ...\n",
       "134     Sunshine Quiz Wkly Q! Win a top Sony DVD playe...\n",
       "Name: Message, Length: 7730, dtype: object"
      ]
     },
     "execution_count": 17,
     "metadata": {},
     "output_type": "execute_result"
    }
   ],
   "source": [
    "x_train"
   ]
  },
  {
   "cell_type": "code",
   "execution_count": 18,
   "id": "84047d2c",
   "metadata": {
    "execution": {
     "iopub.execute_input": "2023-01-28T10:02:07.772151Z",
     "iopub.status.busy": "2023-01-28T10:02:07.771825Z",
     "iopub.status.idle": "2023-01-28T10:02:07.781442Z",
     "shell.execute_reply": "2023-01-28T10:02:07.780002Z"
    },
    "papermill": {
     "duration": 0.024587,
     "end_time": "2023-01-28T10:02:07.784708",
     "exception": false,
     "start_time": "2023-01-28T10:02:07.760121",
     "status": "completed"
    },
    "tags": []
   },
   "outputs": [
    {
     "data": {
      "text/plain": [
       "2632    URGENT! Your mobile No 077xxx WON a £2,000 Bon...\n",
       "454     Ok i will tell her to stay out. Yeah its been ...\n",
       "983     Congrats! 2 mobile 3G Videophones R yours. cal...\n",
       "1282        Am I the only one who doesn't stalk profiles?\n",
       "4610                               Y de asking like this.\n",
       "                              ...                        \n",
       "4827                        Haha, just what I was thinkin\n",
       "5291      Xy trying smth now. U eat already? We havent...\n",
       "3325    I don wake since. I checked that stuff and saw...\n",
       "3561    Lol I know! Hey someone did a great inpersonat...\n",
       "1136                      K do I need a login or anything\n",
       "Name: Message, Length: 1115, dtype: object"
      ]
     },
     "execution_count": 18,
     "metadata": {},
     "output_type": "execute_result"
    }
   ],
   "source": [
    "x_test"
   ]
  },
  {
   "cell_type": "code",
   "execution_count": 19,
   "id": "9a3ff6b8",
   "metadata": {
    "execution": {
     "iopub.execute_input": "2023-01-28T10:02:07.809234Z",
     "iopub.status.busy": "2023-01-28T10:02:07.808901Z",
     "iopub.status.idle": "2023-01-28T10:02:07.817777Z",
     "shell.execute_reply": "2023-01-28T10:02:07.816650Z"
    },
    "papermill": {
     "duration": 0.023598,
     "end_time": "2023-01-28T10:02:07.820344",
     "exception": false,
     "start_time": "2023-01-28T10:02:07.796746",
     "status": "completed"
    },
    "tags": []
   },
   "outputs": [
    {
     "data": {
      "text/plain": [
       "3075    1\n",
       "1787    1\n",
       "1614    1\n",
       "4304    1\n",
       "4539    1\n",
       "       ..\n",
       "2480    0\n",
       "2574    0\n",
       "4673    0\n",
       "3382    0\n",
       "134     0\n",
       "Name: Category, Length: 7730, dtype: object"
      ]
     },
     "execution_count": 19,
     "metadata": {},
     "output_type": "execute_result"
    }
   ],
   "source": [
    "y_train"
   ]
  },
  {
   "cell_type": "code",
   "execution_count": 20,
   "id": "5e2b4a19",
   "metadata": {
    "execution": {
     "iopub.execute_input": "2023-01-28T10:02:07.846291Z",
     "iopub.status.busy": "2023-01-28T10:02:07.845711Z",
     "iopub.status.idle": "2023-01-28T10:02:07.854442Z",
     "shell.execute_reply": "2023-01-28T10:02:07.853403Z"
    },
    "papermill": {
     "duration": 0.025573,
     "end_time": "2023-01-28T10:02:07.857090",
     "exception": false,
     "start_time": "2023-01-28T10:02:07.831517",
     "status": "completed"
    },
    "tags": []
   },
   "outputs": [
    {
     "data": {
      "text/plain": [
       "2632    0\n",
       "454     1\n",
       "983     0\n",
       "1282    1\n",
       "4610    1\n",
       "       ..\n",
       "4827    1\n",
       "5291    1\n",
       "3325    1\n",
       "3561    1\n",
       "1136    1\n",
       "Name: Category, Length: 1115, dtype: object"
      ]
     },
     "execution_count": 20,
     "metadata": {},
     "output_type": "execute_result"
    }
   ],
   "source": [
    "y_test"
   ]
  },
  {
   "cell_type": "markdown",
   "id": "b68d2124",
   "metadata": {
    "papermill": {
     "duration": 0.010737,
     "end_time": "2023-01-28T10:02:07.879312",
     "exception": false,
     "start_time": "2023-01-28T10:02:07.868575",
     "status": "completed"
    },
    "tags": []
   },
   "source": [
    "# Feature Extraction"
   ]
  },
  {
   "cell_type": "code",
   "execution_count": 21,
   "id": "40c40a5d",
   "metadata": {
    "execution": {
     "iopub.execute_input": "2023-01-28T10:02:07.904738Z",
     "iopub.status.busy": "2023-01-28T10:02:07.904281Z",
     "iopub.status.idle": "2023-01-28T10:02:07.909864Z",
     "shell.execute_reply": "2023-01-28T10:02:07.908697Z"
    },
    "papermill": {
     "duration": 0.022045,
     "end_time": "2023-01-28T10:02:07.913210",
     "exception": false,
     "start_time": "2023-01-28T10:02:07.891165",
     "status": "completed"
    },
    "tags": []
   },
   "outputs": [],
   "source": [
    "# transform the text data to feature vectors\n",
    "features=TfidfVectorizer(min_df=1,stop_words='english',lowercase='True',)"
   ]
  },
  {
   "cell_type": "code",
   "execution_count": 22,
   "id": "50c883d1",
   "metadata": {
    "execution": {
     "iopub.execute_input": "2023-01-28T10:02:07.936845Z",
     "iopub.status.busy": "2023-01-28T10:02:07.936413Z",
     "iopub.status.idle": "2023-01-28T10:02:08.107085Z",
     "shell.execute_reply": "2023-01-28T10:02:08.105454Z"
    },
    "papermill": {
     "duration": 0.185412,
     "end_time": "2023-01-28T10:02:08.109621",
     "exception": false,
     "start_time": "2023-01-28T10:02:07.924209",
     "status": "completed"
    },
    "tags": []
   },
   "outputs": [],
   "source": [
    "train_features=features.fit_transform(x_train)\n",
    "test_features=features.transform(x_test)"
   ]
  },
  {
   "cell_type": "code",
   "execution_count": 23,
   "id": "d6111a2a",
   "metadata": {
    "execution": {
     "iopub.execute_input": "2023-01-28T10:02:08.133674Z",
     "iopub.status.busy": "2023-01-28T10:02:08.133247Z",
     "iopub.status.idle": "2023-01-28T10:02:08.140126Z",
     "shell.execute_reply": "2023-01-28T10:02:08.138673Z"
    },
    "papermill": {
     "duration": 0.021944,
     "end_time": "2023-01-28T10:02:08.142815",
     "exception": false,
     "start_time": "2023-01-28T10:02:08.120871",
     "status": "completed"
    },
    "tags": []
   },
   "outputs": [],
   "source": [
    "y_train=y_train.astype('int')\n",
    "y_test=y_test.astype('int')"
   ]
  },
  {
   "cell_type": "code",
   "execution_count": 24,
   "id": "2c06acee",
   "metadata": {
    "execution": {
     "iopub.execute_input": "2023-01-28T10:02:08.166684Z",
     "iopub.status.busy": "2023-01-28T10:02:08.166266Z",
     "iopub.status.idle": "2023-01-28T10:02:08.172932Z",
     "shell.execute_reply": "2023-01-28T10:02:08.171516Z"
    },
    "papermill": {
     "duration": 0.022173,
     "end_time": "2023-01-28T10:02:08.176130",
     "exception": false,
     "start_time": "2023-01-28T10:02:08.153957",
     "status": "completed"
    },
    "tags": []
   },
   "outputs": [
    {
     "name": "stdout",
     "output_type": "stream",
     "text": [
      "  (0, 5413)\t0.608247380676714\n",
      "  (0, 4456)\t0.34672800106528284\n",
      "  (0, 2224)\t0.45517622114732065\n",
      "  (0, 3811)\t0.36216275738652354\n",
      "  (0, 2329)\t0.414086418566735\n",
      "  (1, 4080)\t0.1889574549764121\n",
      "  (1, 3185)\t0.30403422475722197\n",
      "  (1, 3325)\t0.32222312747944065\n",
      "  (1, 2957)\t0.34474333133987023\n",
      "  (1, 2746)\t0.34474333133987023\n",
      "  (1, 918)\t0.23926680634245998\n",
      "  (1, 1839)\t0.26365908075249506\n",
      "  (1, 2758)\t0.328426499167257\n",
      "  (1, 2956)\t0.33576353060144626\n",
      "  (1, 1991)\t0.300532690329088\n",
      "  (1, 3046)\t0.25208210408693926\n",
      "  (1, 3811)\t0.1705974297014458\n",
      "  (2, 407)\t0.4466796029937963\n",
      "  (2, 3156)\t0.39683422921382855\n",
      "  (2, 2404)\t0.48629625517671937\n",
      "  (2, 6601)\t0.6375859777274516\n",
      "  (3, 2870)\t0.4415459284610865\n",
      "  (3, 7414)\t0.8972386488885982\n",
      "  (4, 1579)\t0.4087477560607828\n",
      "  (4, 6095)\t0.525993189354035\n",
      "  :\t:\n",
      "  (7728, 1867)\t0.250735420110155\n",
      "  (7728, 1825)\t0.21872643735725025\n",
      "  (7728, 6920)\t0.18721150194535305\n",
      "  (7728, 4062)\t0.3184441154377713\n",
      "  (7728, 4562)\t0.3184441154377713\n",
      "  (7728, 3327)\t0.20525586075176108\n",
      "  (7728, 3860)\t0.20570437467535682\n",
      "  (7728, 1604)\t0.1749009814217954\n",
      "  (7728, 250)\t0.21964536942890087\n",
      "  (7729, 888)\t0.3260672639405672\n",
      "  (7729, 6833)\t0.2905679305190988\n",
      "  (7729, 6110)\t0.2601087626170629\n",
      "  (7729, 651)\t0.2691683218099503\n",
      "  (7729, 945)\t0.2905679305190988\n",
      "  (7729, 7256)\t0.2504172037152788\n",
      "  (7729, 5324)\t0.23485572574268848\n",
      "  (7729, 2420)\t0.2601087626170629\n",
      "  (7729, 6362)\t0.2669821556249377\n",
      "  (7729, 1959)\t0.2853425096534168\n",
      "  (7729, 5043)\t0.24374409000343852\n",
      "  (7729, 531)\t0.18720426900184056\n",
      "  (7729, 6079)\t0.25833263494195435\n",
      "  (7729, 7219)\t0.1816772839319957\n",
      "  (7729, 6817)\t0.1401624183106954\n",
      "  (7729, 3811)\t0.18068109075310435\n"
     ]
    }
   ],
   "source": [
    "print(train_features)"
   ]
  },
  {
   "cell_type": "code",
   "execution_count": 25,
   "id": "cc2bf2d7",
   "metadata": {
    "execution": {
     "iopub.execute_input": "2023-01-28T10:02:08.203646Z",
     "iopub.status.busy": "2023-01-28T10:02:08.202222Z",
     "iopub.status.idle": "2023-01-28T10:02:08.208696Z",
     "shell.execute_reply": "2023-01-28T10:02:08.207283Z"
    },
    "papermill": {
     "duration": 0.021528,
     "end_time": "2023-01-28T10:02:08.211120",
     "exception": false,
     "start_time": "2023-01-28T10:02:08.189592",
     "status": "completed"
    },
    "tags": []
   },
   "outputs": [
    {
     "name": "stdout",
     "output_type": "stream",
     "text": [
      "  (0, 7271)\t0.1819672371893313\n",
      "  (0, 6920)\t0.19301563071106212\n",
      "  (0, 5373)\t0.282749932711837\n",
      "  (0, 5213)\t0.177528683588192\n",
      "  (0, 4386)\t0.1621417008447433\n",
      "  (0, 1549)\t0.25786618377756554\n",
      "  (0, 1405)\t0.33480171303428036\n",
      "  (0, 1361)\t0.23802651433506097\n",
      "  (0, 1082)\t0.23561975279538408\n",
      "  (0, 1041)\t0.3070178471220092\n",
      "  (0, 405)\t0.23680715760708218\n",
      "  (0, 306)\t0.22613703404825353\n",
      "  (0, 20)\t0.3152800567631029\n",
      "  (0, 14)\t0.2591610344657518\n",
      "  (0, 9)\t0.28864351013055667\n",
      "  (0, 1)\t0.22307392976432308\n",
      "  (1, 7368)\t0.31552568123099334\n",
      "  (1, 6732)\t0.4348540175430284\n",
      "  (1, 6588)\t0.33143742120955866\n",
      "  (1, 6507)\t0.25144822987792553\n",
      "  (1, 6214)\t0.35231430787967966\n",
      "  (1, 4729)\t0.24002279929957046\n",
      "  (1, 4418)\t0.32192232080786193\n",
      "  (1, 3491)\t0.5028899035265681\n",
      "  (2, 7205)\t0.2533148784602483\n",
      "  :\t:\n",
      "  (1110, 3167)\t0.5887278821075503\n",
      "  (1111, 7353)\t0.5060187503021952\n",
      "  (1111, 6787)\t0.3556698609745818\n",
      "  (1111, 6033)\t0.47996025111404494\n",
      "  (1111, 3227)\t0.4539017519258947\n",
      "  (1111, 2440)\t0.4255059709170633\n",
      "  (1112, 7071)\t0.3491864043393237\n",
      "  (1112, 6777)\t0.3118001684639552\n",
      "  (1112, 6297)\t0.31536951024142956\n",
      "  (1112, 5778)\t0.19339019882545289\n",
      "  (1112, 5695)\t0.3516524871876914\n",
      "  (1112, 5056)\t0.24847967503523574\n",
      "  (1112, 4170)\t0.3445882656419505\n",
      "  (1112, 2329)\t0.2449924529705023\n",
      "  (1112, 1683)\t0.41250689776804317\n",
      "  (1112, 1109)\t0.33115838626102195\n",
      "  (1113, 4080)\t0.3020277516194973\n",
      "  (1113, 4038)\t0.3836219963933766\n",
      "  (1113, 3811)\t0.272681266432303\n",
      "  (1113, 3281)\t0.3301505831809276\n",
      "  (1113, 3113)\t0.3256436389068838\n",
      "  (1113, 2852)\t0.5956195675473194\n",
      "  (1113, 2224)\t0.3427133958444397\n",
      "  (1114, 4557)\t0.5983812226022097\n",
      "  (1114, 4033)\t0.8012115278982729\n"
     ]
    }
   ],
   "source": [
    "print(test_features)"
   ]
  },
  {
   "cell_type": "markdown",
   "id": "681e09ef",
   "metadata": {
    "papermill": {
     "duration": 0.012017,
     "end_time": "2023-01-28T10:02:08.236661",
     "exception": false,
     "start_time": "2023-01-28T10:02:08.224644",
     "status": "completed"
    },
    "tags": []
   },
   "source": [
    "# Training the Model"
   ]
  },
  {
   "cell_type": "markdown",
   "id": "fdbe524f",
   "metadata": {
    "papermill": {
     "duration": 0.01147,
     "end_time": "2023-01-28T10:02:08.259475",
     "exception": false,
     "start_time": "2023-01-28T10:02:08.248005",
     "status": "completed"
    },
    "tags": []
   },
   "source": [
    "## Logistic regression"
   ]
  },
  {
   "cell_type": "code",
   "execution_count": 26,
   "id": "6f7a88cd",
   "metadata": {
    "execution": {
     "iopub.execute_input": "2023-01-28T10:02:08.285758Z",
     "iopub.status.busy": "2023-01-28T10:02:08.284911Z",
     "iopub.status.idle": "2023-01-28T10:02:08.291842Z",
     "shell.execute_reply": "2023-01-28T10:02:08.289783Z"
    },
    "papermill": {
     "duration": 0.022292,
     "end_time": "2023-01-28T10:02:08.294508",
     "exception": false,
     "start_time": "2023-01-28T10:02:08.272216",
     "status": "completed"
    },
    "tags": []
   },
   "outputs": [],
   "source": [
    "model=LogisticRegression()"
   ]
  },
  {
   "cell_type": "code",
   "execution_count": 27,
   "id": "d5d76390",
   "metadata": {
    "execution": {
     "iopub.execute_input": "2023-01-28T10:02:08.319047Z",
     "iopub.status.busy": "2023-01-28T10:02:08.318646Z",
     "iopub.status.idle": "2023-01-28T10:02:08.405211Z",
     "shell.execute_reply": "2023-01-28T10:02:08.404172Z"
    },
    "papermill": {
     "duration": 0.101468,
     "end_time": "2023-01-28T10:02:08.407496",
     "exception": false,
     "start_time": "2023-01-28T10:02:08.306028",
     "status": "completed"
    },
    "tags": []
   },
   "outputs": [
    {
     "data": {
      "text/plain": [
       "LogisticRegression()"
      ]
     },
     "execution_count": 27,
     "metadata": {},
     "output_type": "execute_result"
    }
   ],
   "source": [
    "model.fit(train_features,y_train)"
   ]
  },
  {
   "cell_type": "markdown",
   "id": "a6180e65",
   "metadata": {
    "papermill": {
     "duration": 0.012152,
     "end_time": "2023-01-28T10:02:08.431238",
     "exception": false,
     "start_time": "2023-01-28T10:02:08.419086",
     "status": "completed"
    },
    "tags": []
   },
   "source": [
    "## Evaluating the trained model"
   ]
  },
  {
   "cell_type": "code",
   "execution_count": 28,
   "id": "d3390f5f",
   "metadata": {
    "execution": {
     "iopub.execute_input": "2023-01-28T10:02:08.456153Z",
     "iopub.status.busy": "2023-01-28T10:02:08.455795Z",
     "iopub.status.idle": "2023-01-28T10:02:08.461352Z",
     "shell.execute_reply": "2023-01-28T10:02:08.460012Z"
    },
    "papermill": {
     "duration": 0.020959,
     "end_time": "2023-01-28T10:02:08.463899",
     "exception": false,
     "start_time": "2023-01-28T10:02:08.442940",
     "status": "completed"
    },
    "tags": []
   },
   "outputs": [],
   "source": [
    "prediction_training_data=model.predict(train_features)"
   ]
  },
  {
   "cell_type": "code",
   "execution_count": 29,
   "id": "19819a8e",
   "metadata": {
    "execution": {
     "iopub.execute_input": "2023-01-28T10:02:08.488331Z",
     "iopub.status.busy": "2023-01-28T10:02:08.487970Z",
     "iopub.status.idle": "2023-01-28T10:02:08.494946Z",
     "shell.execute_reply": "2023-01-28T10:02:08.493071Z"
    },
    "papermill": {
     "duration": 0.022044,
     "end_time": "2023-01-28T10:02:08.497463",
     "exception": false,
     "start_time": "2023-01-28T10:02:08.475419",
     "status": "completed"
    },
    "tags": []
   },
   "outputs": [
    {
     "data": {
      "text/plain": [
       "array([1, 1, 1, ..., 0, 0, 0])"
      ]
     },
     "execution_count": 29,
     "metadata": {},
     "output_type": "execute_result"
    }
   ],
   "source": [
    "prediction_training_data"
   ]
  },
  {
   "cell_type": "code",
   "execution_count": 30,
   "id": "72beec67",
   "metadata": {
    "execution": {
     "iopub.execute_input": "2023-01-28T10:02:08.521922Z",
     "iopub.status.busy": "2023-01-28T10:02:08.521492Z",
     "iopub.status.idle": "2023-01-28T10:02:08.527540Z",
     "shell.execute_reply": "2023-01-28T10:02:08.526568Z"
    },
    "papermill": {
     "duration": 0.021205,
     "end_time": "2023-01-28T10:02:08.530107",
     "exception": false,
     "start_time": "2023-01-28T10:02:08.508902",
     "status": "completed"
    },
    "tags": []
   },
   "outputs": [],
   "source": [
    "accuracy_train=accuracy_score(y_train,prediction_training_data)"
   ]
  },
  {
   "cell_type": "code",
   "execution_count": 31,
   "id": "bfa3049b",
   "metadata": {
    "execution": {
     "iopub.execute_input": "2023-01-28T10:02:08.555260Z",
     "iopub.status.busy": "2023-01-28T10:02:08.554909Z",
     "iopub.status.idle": "2023-01-28T10:02:08.560234Z",
     "shell.execute_reply": "2023-01-28T10:02:08.559616Z"
    },
    "papermill": {
     "duration": 0.020053,
     "end_time": "2023-01-28T10:02:08.562107",
     "exception": false,
     "start_time": "2023-01-28T10:02:08.542054",
     "status": "completed"
    },
    "tags": []
   },
   "outputs": [
    {
     "data": {
      "text/plain": [
       "0.9971539456662355"
      ]
     },
     "execution_count": 31,
     "metadata": {},
     "output_type": "execute_result"
    }
   ],
   "source": [
    "accuracy_train"
   ]
  },
  {
   "cell_type": "code",
   "execution_count": 32,
   "id": "d17f1781",
   "metadata": {
    "execution": {
     "iopub.execute_input": "2023-01-28T10:02:08.587465Z",
     "iopub.status.busy": "2023-01-28T10:02:08.587068Z",
     "iopub.status.idle": "2023-01-28T10:02:08.591440Z",
     "shell.execute_reply": "2023-01-28T10:02:08.590728Z"
    },
    "papermill": {
     "duration": 0.018824,
     "end_time": "2023-01-28T10:02:08.593045",
     "exception": false,
     "start_time": "2023-01-28T10:02:08.574221",
     "status": "completed"
    },
    "tags": []
   },
   "outputs": [],
   "source": [
    "prediction_test_data=model.predict(test_features)"
   ]
  },
  {
   "cell_type": "code",
   "execution_count": 33,
   "id": "9ee4c93c",
   "metadata": {
    "execution": {
     "iopub.execute_input": "2023-01-28T10:02:08.617701Z",
     "iopub.status.busy": "2023-01-28T10:02:08.617280Z",
     "iopub.status.idle": "2023-01-28T10:02:08.623461Z",
     "shell.execute_reply": "2023-01-28T10:02:08.622148Z"
    },
    "papermill": {
     "duration": 0.021535,
     "end_time": "2023-01-28T10:02:08.626188",
     "exception": false,
     "start_time": "2023-01-28T10:02:08.604653",
     "status": "completed"
    },
    "tags": []
   },
   "outputs": [],
   "source": [
    "accuracy_test=accuracy_score(y_test,prediction_test_data)"
   ]
  },
  {
   "cell_type": "code",
   "execution_count": 34,
   "id": "e2343663",
   "metadata": {
    "execution": {
     "iopub.execute_input": "2023-01-28T10:02:08.652833Z",
     "iopub.status.busy": "2023-01-28T10:02:08.652437Z",
     "iopub.status.idle": "2023-01-28T10:02:08.658818Z",
     "shell.execute_reply": "2023-01-28T10:02:08.657257Z"
    },
    "papermill": {
     "duration": 0.022849,
     "end_time": "2023-01-28T10:02:08.661965",
     "exception": false,
     "start_time": "2023-01-28T10:02:08.639116",
     "status": "completed"
    },
    "tags": []
   },
   "outputs": [
    {
     "name": "stdout",
     "output_type": "stream",
     "text": [
      "973\n"
     ]
    }
   ],
   "source": [
    "print((prediction_test_data==1).sum())"
   ]
  },
  {
   "cell_type": "code",
   "execution_count": 35,
   "id": "245bc85f",
   "metadata": {
    "execution": {
     "iopub.execute_input": "2023-01-28T10:02:08.688876Z",
     "iopub.status.busy": "2023-01-28T10:02:08.688038Z",
     "iopub.status.idle": "2023-01-28T10:02:08.695138Z",
     "shell.execute_reply": "2023-01-28T10:02:08.694053Z"
    },
    "papermill": {
     "duration": 0.023222,
     "end_time": "2023-01-28T10:02:08.698118",
     "exception": false,
     "start_time": "2023-01-28T10:02:08.674896",
     "status": "completed"
    },
    "tags": []
   },
   "outputs": [
    {
     "data": {
      "text/plain": [
       "0.9865470852017937"
      ]
     },
     "execution_count": 35,
     "metadata": {},
     "output_type": "execute_result"
    }
   ],
   "source": [
    "accuracy_test"
   ]
  },
  {
   "cell_type": "code",
   "execution_count": 36,
   "id": "8f91376b",
   "metadata": {
    "execution": {
     "iopub.execute_input": "2023-01-28T10:02:08.723442Z",
     "iopub.status.busy": "2023-01-28T10:02:08.723077Z",
     "iopub.status.idle": "2023-01-28T10:02:08.730769Z",
     "shell.execute_reply": "2023-01-28T10:02:08.729372Z"
    },
    "papermill": {
     "duration": 0.022914,
     "end_time": "2023-01-28T10:02:08.732895",
     "exception": false,
     "start_time": "2023-01-28T10:02:08.709981",
     "status": "completed"
    },
    "tags": []
   },
   "outputs": [],
   "source": [
    "mail=[\n",
    "    'sorry but if u miss this offer,this will be others briyani,Enjoy it buy ordering now',\n",
    "    'free,shop now',\n",
    "    'Free entry in 2 a wkly comp to win FA Cup ',\n",
    "    'your file has been found',\n",
    "    'enjoy swiggy for free',\n",
    "    'hi i will complete your work tmro'\n",
    "]\n",
    "\n",
    "mail=features.transform(mail)"
   ]
  },
  {
   "cell_type": "code",
   "execution_count": 37,
   "id": "3fa24ebf",
   "metadata": {
    "execution": {
     "iopub.execute_input": "2023-01-28T10:02:08.757891Z",
     "iopub.status.busy": "2023-01-28T10:02:08.757506Z",
     "iopub.status.idle": "2023-01-28T10:02:08.763247Z",
     "shell.execute_reply": "2023-01-28T10:02:08.761854Z"
    },
    "papermill": {
     "duration": 0.021281,
     "end_time": "2023-01-28T10:02:08.766039",
     "exception": false,
     "start_time": "2023-01-28T10:02:08.744758",
     "status": "completed"
    },
    "tags": []
   },
   "outputs": [
    {
     "name": "stdout",
     "output_type": "stream",
     "text": [
      "  (0, 6091)\t0.4238358190411196\n",
      "  (0, 4711)\t0.4300662337952437\n",
      "  (0, 4350)\t0.4448639651823992\n",
      "  (0, 2519)\t0.4555160600759496\n",
      "  (0, 1517)\t0.4795908720378184\n",
      "  (1, 5873)\t0.8896884148084739\n",
      "  (1, 2870)\t0.45656820361867617\n",
      "  (2, 7256)\t0.39440973302408744\n",
      "  (2, 7219)\t0.2861436354573742\n",
      "  (2, 2870)\t0.20951029425115486\n",
      "  (2, 2649)\t0.4959472915937008\n",
      "  (2, 2535)\t0.3583226626290375\n",
      "  (2, 2038)\t0.417224502993076\n",
      "  (2, 1851)\t0.412593124634173\n",
      "  (3, 2742)\t1.0\n",
      "  (4, 2870)\t0.5019149545423651\n",
      "  (4, 2519)\t0.8649169777537815\n",
      "  (5, 7288)\t0.5237560517769815\n",
      "  (5, 3285)\t0.45271026147950216\n",
      "  (5, 1862)\t0.7216183322076489\n"
     ]
    }
   ],
   "source": [
    "print(mail)"
   ]
  },
  {
   "cell_type": "code",
   "execution_count": 38,
   "id": "d78263e0",
   "metadata": {
    "execution": {
     "iopub.execute_input": "2023-01-28T10:02:08.791940Z",
     "iopub.status.busy": "2023-01-28T10:02:08.791520Z",
     "iopub.status.idle": "2023-01-28T10:02:08.796702Z",
     "shell.execute_reply": "2023-01-28T10:02:08.795475Z"
    },
    "papermill": {
     "duration": 0.021402,
     "end_time": "2023-01-28T10:02:08.799432",
     "exception": false,
     "start_time": "2023-01-28T10:02:08.778030",
     "status": "completed"
    },
    "tags": []
   },
   "outputs": [],
   "source": [
    "pred=model.predict(mail)"
   ]
  },
  {
   "cell_type": "code",
   "execution_count": 39,
   "id": "9a659f46",
   "metadata": {
    "execution": {
     "iopub.execute_input": "2023-01-28T10:02:08.824929Z",
     "iopub.status.busy": "2023-01-28T10:02:08.824415Z",
     "iopub.status.idle": "2023-01-28T10:02:08.831065Z",
     "shell.execute_reply": "2023-01-28T10:02:08.829793Z"
    },
    "papermill": {
     "duration": 0.021945,
     "end_time": "2023-01-28T10:02:08.833216",
     "exception": false,
     "start_time": "2023-01-28T10:02:08.811271",
     "status": "completed"
    },
    "tags": []
   },
   "outputs": [
    {
     "data": {
      "text/plain": [
       "array([1, 0, 0, 1, 0, 1])"
      ]
     },
     "execution_count": 39,
     "metadata": {},
     "output_type": "execute_result"
    }
   ],
   "source": [
    "pred"
   ]
  },
  {
   "cell_type": "code",
   "execution_count": null,
   "id": "e41932b4",
   "metadata": {
    "papermill": {
     "duration": 0.011245,
     "end_time": "2023-01-28T10:02:08.856336",
     "exception": false,
     "start_time": "2023-01-28T10:02:08.845091",
     "status": "completed"
    },
    "tags": []
   },
   "outputs": [],
   "source": []
  }
 ],
 "metadata": {
  "kernelspec": {
   "display_name": "Python 3",
   "language": "python",
   "name": "python3"
  },
  "language_info": {
   "codemirror_mode": {
    "name": "ipython",
    "version": 3
   },
   "file_extension": ".py",
   "mimetype": "text/x-python",
   "name": "python",
   "nbconvert_exporter": "python",
   "pygments_lexer": "ipython3",
   "version": "3.7.12"
  },
  "papermill": {
   "default_parameters": {},
   "duration": 11.735373,
   "end_time": "2023-01-28T10:02:09.588841",
   "environment_variables": {},
   "exception": null,
   "input_path": "__notebook__.ipynb",
   "output_path": "__notebook__.ipynb",
   "parameters": {},
   "start_time": "2023-01-28T10:01:57.853468",
   "version": "2.3.4"
  }
 },
 "nbformat": 4,
 "nbformat_minor": 5
}
